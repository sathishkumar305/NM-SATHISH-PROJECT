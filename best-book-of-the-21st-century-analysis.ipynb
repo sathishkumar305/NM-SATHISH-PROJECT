{
 "cells": [
  {
   "cell_type": "code",
   "execution_count": 1,
   "id": "b36de162",
   "metadata": {
    "_cell_guid": "b1076dfc-b9ad-4769-8c92-a6c4dae69d19",
    "_uuid": "8f2839f25d086af736a60e9eeb907d3b93b6e0e5",
    "execution": {
     "iopub.execute_input": "2021-12-01T09:28:21.559853Z",
     "iopub.status.busy": "2021-12-01T09:28:21.557962Z",
     "iopub.status.idle": "2021-12-01T09:28:21.570441Z",
     "shell.execute_reply": "2021-12-01T09:28:21.571054Z",
     "shell.execute_reply.started": "2021-12-01T09:22:49.636698Z"
    },
    "papermill": {
     "duration": 0.037424,
     "end_time": "2021-12-01T09:28:21.571381",
     "exception": false,
     "start_time": "2021-12-01T09:28:21.533957",
     "status": "completed"
    },
    "tags": []
   },
   "outputs": [],
   "source": [
    "import pandas as pd\n",
    "import numpy as np\n",
    "import re"
   ]
  },
  {
   "cell_type": "code",
   "execution_count": 2,
   "id": "9d0cb707",
   "metadata": {
    "execution": {
     "iopub.execute_input": "2021-12-01T09:28:21.604063Z",
     "iopub.status.busy": "2021-12-01T09:28:21.602955Z",
     "iopub.status.idle": "2021-12-01T09:28:21.761486Z",
     "shell.execute_reply": "2021-12-01T09:28:21.762516Z",
     "shell.execute_reply.started": "2021-12-01T09:22:49.664280Z"
    },
    "papermill": {
     "duration": 0.176652,
     "end_time": "2021-12-01T09:28:21.762750",
     "exception": false,
     "start_time": "2021-12-01T09:28:21.586098",
     "status": "completed"
    },
    "tags": []
   },
   "outputs": [],
   "source": [
    "df = pd.read_csv('../input/best-books-of-the-21st-century-dataset/Best_Book_21st.csv')"
   ]
  },
  {
   "cell_type": "code",
   "execution_count": 3,
   "id": "c48e8b2f",
   "metadata": {
    "execution": {
     "iopub.execute_input": "2021-12-01T09:28:21.808882Z",
     "iopub.status.busy": "2021-12-01T09:28:21.808142Z",
     "iopub.status.idle": "2021-12-01T09:28:21.846183Z",
     "shell.execute_reply": "2021-12-01T09:28:21.847377Z",
     "shell.execute_reply.started": "2021-12-01T09:22:49.804579Z"
    },
    "papermill": {
     "duration": 0.060083,
     "end_time": "2021-12-01T09:28:21.847675",
     "exception": false,
     "start_time": "2021-12-01T09:28:21.787592",
     "status": "completed"
    },
    "tags": []
   },
   "outputs": [
    {
     "data": {
      "text/html": [
       "<div>\n",
       "<style scoped>\n",
       "    .dataframe tbody tr th:only-of-type {\n",
       "        vertical-align: middle;\n",
       "    }\n",
       "\n",
       "    .dataframe tbody tr th {\n",
       "        vertical-align: top;\n",
       "    }\n",
       "\n",
       "    .dataframe thead th {\n",
       "        text-align: right;\n",
       "    }\n",
       "</style>\n",
       "<table border=\"1\" class=\"dataframe\">\n",
       "  <thead>\n",
       "    <tr style=\"text-align: right;\">\n",
       "      <th></th>\n",
       "      <th>id</th>\n",
       "      <th>title</th>\n",
       "      <th>series</th>\n",
       "      <th>author</th>\n",
       "      <th>book_link</th>\n",
       "      <th>genre</th>\n",
       "      <th>date_published</th>\n",
       "      <th>publisher</th>\n",
       "      <th>num_of_page</th>\n",
       "      <th>lang</th>\n",
       "      <th>review_count</th>\n",
       "      <th>rating_count</th>\n",
       "      <th>rate</th>\n",
       "      <th>award</th>\n",
       "    </tr>\n",
       "  </thead>\n",
       "  <tbody>\n",
       "    <tr>\n",
       "      <th>8093</th>\n",
       "      <td>8093</td>\n",
       "      <td>Secrets of the Dragon Sanctuary (Fablehaven, #4)</td>\n",
       "      <td>\\n        (Fablehaven #4)\\n</td>\n",
       "      <td>Brandon Mull</td>\n",
       "      <td>https://www.goodreads.com/book/show/5217282-se...</td>\n",
       "      <td>Fantasy,Young Adult,Fiction,Childrens,Middle G...</td>\n",
       "      <td>March 24th 2009</td>\n",
       "      <td>Shadow Mountain\\n\\n            ,</td>\n",
       "      <td>535.0</td>\n",
       "      <td>English</td>\n",
       "      <td>3,162</td>\n",
       "      <td>79,798</td>\n",
       "      <td>4.38</td>\n",
       "      <td>Goodreads Choice Award Nominee for Young Adult...</td>\n",
       "    </tr>\n",
       "    <tr>\n",
       "      <th>1804</th>\n",
       "      <td>1804</td>\n",
       "      <td>Fool's Errand (Tawny Man, #1)</td>\n",
       "      <td>\\n        (The Tawny Man #1)\\n</td>\n",
       "      <td>Robin Hobb</td>\n",
       "      <td>https://www.goodreads.com/book/show/68488.Fool...</td>\n",
       "      <td>Fantasy,Fiction,Fantasy,Epic Fantasy,Fantasy,H...</td>\n",
       "      <td>October 2002</td>\n",
       "      <td>Voyager\\n\\n            ,</td>\n",
       "      <td>661.0</td>\n",
       "      <td>English</td>\n",
       "      <td>2,321</td>\n",
       "      <td>84,373</td>\n",
       "      <td>4.29</td>\n",
       "      <td>NaN</td>\n",
       "    </tr>\n",
       "    <tr>\n",
       "      <th>6538</th>\n",
       "      <td>6538</td>\n",
       "      <td>Thumped (Bumped, #2)</td>\n",
       "      <td>\\n        (Bumped #2)\\n</td>\n",
       "      <td>Megan McCafferty</td>\n",
       "      <td>https://www.goodreads.com/book/show/12924279-t...</td>\n",
       "      <td>Young Adult,Science Fiction,Dystopia,Fiction,S...</td>\n",
       "      <td>April 24th 2012</td>\n",
       "      <td>Balzer + Bray\\n\\n            ,</td>\n",
       "      <td>293.0</td>\n",
       "      <td>English</td>\n",
       "      <td>643</td>\n",
       "      <td>5,377</td>\n",
       "      <td>3.37</td>\n",
       "      <td>NaN</td>\n",
       "    </tr>\n",
       "    <tr>\n",
       "      <th>4214</th>\n",
       "      <td>4214</td>\n",
       "      <td>As I SAW The beginning of rendezvous</td>\n",
       "      <td>NaN</td>\n",
       "      <td>Umar Hasan</td>\n",
       "      <td>https://www.goodreads.com/book/show/36142844-a...</td>\n",
       "      <td>NaN</td>\n",
       "      <td>August 17th 2017</td>\n",
       "      <td>Prowess Publishing\\n\\n            ,</td>\n",
       "      <td>41.0</td>\n",
       "      <td>English</td>\n",
       "      <td>3</td>\n",
       "      <td>4</td>\n",
       "      <td>4.00</td>\n",
       "      <td>NaN</td>\n",
       "    </tr>\n",
       "    <tr>\n",
       "      <th>8713</th>\n",
       "      <td>8713</td>\n",
       "      <td>Captive: My Time as a Prisoner of the Taliban</td>\n",
       "      <td>NaN</td>\n",
       "      <td>Jere Van Dyk</td>\n",
       "      <td>https://www.goodreads.com/book/show/7705934-ca...</td>\n",
       "      <td>Nonfiction,Autobiography,Memoir,War,War,Terror...</td>\n",
       "      <td>June 22nd 2010</td>\n",
       "      <td>Times Books\\n\\n            ,</td>\n",
       "      <td>269.0</td>\n",
       "      <td>NaN</td>\n",
       "      <td>69</td>\n",
       "      <td>329</td>\n",
       "      <td>3.37</td>\n",
       "      <td>NaN</td>\n",
       "    </tr>\n",
       "  </tbody>\n",
       "</table>\n",
       "</div>"
      ],
      "text/plain": [
       "        id                                             title  \\\n",
       "8093  8093  Secrets of the Dragon Sanctuary (Fablehaven, #4)   \n",
       "1804  1804                     Fool's Errand (Tawny Man, #1)   \n",
       "6538  6538                              Thumped (Bumped, #2)   \n",
       "4214  4214              As I SAW The beginning of rendezvous   \n",
       "8713  8713     Captive: My Time as a Prisoner of the Taliban   \n",
       "\n",
       "                              series            author  \\\n",
       "8093     \\n        (Fablehaven #4)\\n      Brandon Mull   \n",
       "1804  \\n        (The Tawny Man #1)\\n        Robin Hobb   \n",
       "6538         \\n        (Bumped #2)\\n  Megan McCafferty   \n",
       "4214                             NaN        Umar Hasan   \n",
       "8713                             NaN      Jere Van Dyk   \n",
       "\n",
       "                                              book_link  \\\n",
       "8093  https://www.goodreads.com/book/show/5217282-se...   \n",
       "1804  https://www.goodreads.com/book/show/68488.Fool...   \n",
       "6538  https://www.goodreads.com/book/show/12924279-t...   \n",
       "4214  https://www.goodreads.com/book/show/36142844-a...   \n",
       "8713  https://www.goodreads.com/book/show/7705934-ca...   \n",
       "\n",
       "                                                  genre    date_published  \\\n",
       "8093  Fantasy,Young Adult,Fiction,Childrens,Middle G...   March 24th 2009   \n",
       "1804  Fantasy,Fiction,Fantasy,Epic Fantasy,Fantasy,H...      October 2002   \n",
       "6538  Young Adult,Science Fiction,Dystopia,Fiction,S...   April 24th 2012   \n",
       "4214                                                NaN  August 17th 2017   \n",
       "8713  Nonfiction,Autobiography,Memoir,War,War,Terror...    June 22nd 2010   \n",
       "\n",
       "                                publisher  num_of_page     lang review_count  \\\n",
       "8093     Shadow Mountain\\n\\n            ,        535.0  English        3,162   \n",
       "1804             Voyager\\n\\n            ,        661.0  English        2,321   \n",
       "6538       Balzer + Bray\\n\\n            ,        293.0  English          643   \n",
       "4214  Prowess Publishing\\n\\n            ,         41.0  English            3   \n",
       "8713         Times Books\\n\\n            ,        269.0      NaN           69   \n",
       "\n",
       "     rating_count  rate                                              award  \n",
       "8093       79,798  4.38  Goodreads Choice Award Nominee for Young Adult...  \n",
       "1804       84,373  4.29                                                NaN  \n",
       "6538        5,377  3.37                                                NaN  \n",
       "4214            4  4.00                                                NaN  \n",
       "8713          329  3.37                                                NaN  "
      ]
     },
     "execution_count": 3,
     "metadata": {},
     "output_type": "execute_result"
    }
   ],
   "source": [
    "df.sample(5)"
   ]
  },
  {
   "cell_type": "code",
   "execution_count": 4,
   "id": "29603db2",
   "metadata": {
    "execution": {
     "iopub.execute_input": "2021-12-01T09:28:21.885162Z",
     "iopub.status.busy": "2021-12-01T09:28:21.884374Z",
     "iopub.status.idle": "2021-12-01T09:28:21.931765Z",
     "shell.execute_reply": "2021-12-01T09:28:21.932365Z",
     "shell.execute_reply.started": "2021-12-01T09:22:49.843667Z"
    },
    "papermill": {
     "duration": 0.065981,
     "end_time": "2021-12-01T09:28:21.932576",
     "exception": false,
     "start_time": "2021-12-01T09:28:21.866595",
     "status": "completed"
    },
    "tags": []
   },
   "outputs": [
    {
     "name": "stdout",
     "output_type": "stream",
     "text": [
      "<class 'pandas.core.frame.DataFrame'>\n",
      "RangeIndex: 10018 entries, 0 to 10017\n",
      "Data columns (total 14 columns):\n",
      " #   Column          Non-Null Count  Dtype  \n",
      "---  ------          --------------  -----  \n",
      " 0   id              10018 non-null  int64  \n",
      " 1   title           10018 non-null  object \n",
      " 2   series          4341 non-null   object \n",
      " 3   author          10003 non-null  object \n",
      " 4   book_link       10018 non-null  object \n",
      " 5   genre           9019 non-null   object \n",
      " 6   date_published  9970 non-null   object \n",
      " 7   publisher       9624 non-null   object \n",
      " 8   num_of_page     9737 non-null   float64\n",
      " 9   lang            9503 non-null   object \n",
      " 10  review_count    10003 non-null  object \n",
      " 11  rating_count    10003 non-null  object \n",
      " 12  rate            10003 non-null  float64\n",
      " 13  award           4024 non-null   object \n",
      "dtypes: float64(2), int64(1), object(11)\n",
      "memory usage: 1.1+ MB\n"
     ]
    }
   ],
   "source": [
    "df.info()"
   ]
  },
  {
   "cell_type": "code",
   "execution_count": 5,
   "id": "d3a3fd66",
   "metadata": {
    "execution": {
     "iopub.execute_input": "2021-12-01T09:28:21.967160Z",
     "iopub.status.busy": "2021-12-01T09:28:21.966416Z",
     "iopub.status.idle": "2021-12-01T09:28:21.989291Z",
     "shell.execute_reply": "2021-12-01T09:28:21.988683Z",
     "shell.execute_reply.started": "2021-12-01T09:22:49.881877Z"
    },
    "papermill": {
     "duration": 0.041571,
     "end_time": "2021-12-01T09:28:21.989439",
     "exception": false,
     "start_time": "2021-12-01T09:28:21.947868",
     "status": "completed"
    },
    "tags": []
   },
   "outputs": [
    {
     "data": {
      "text/plain": [
       "id                   0\n",
       "title                0\n",
       "series            5677\n",
       "author              15\n",
       "book_link            0\n",
       "genre              999\n",
       "date_published      48\n",
       "publisher          394\n",
       "num_of_page        281\n",
       "lang               515\n",
       "review_count        15\n",
       "rating_count        15\n",
       "rate                15\n",
       "award             5994\n",
       "dtype: int64"
      ]
     },
     "execution_count": 5,
     "metadata": {},
     "output_type": "execute_result"
    }
   ],
   "source": [
    "df.isnull().sum()"
   ]
  },
  {
   "cell_type": "markdown",
   "id": "b750ad77",
   "metadata": {
    "papermill": {
     "duration": 0.015736,
     "end_time": "2021-12-01T09:28:22.020582",
     "exception": false,
     "start_time": "2021-12-01T09:28:22.004846",
     "status": "completed"
    },
    "tags": []
   },
   "source": [
    "# Cleaning & Feature Engineering"
   ]
  },
  {
   "cell_type": "code",
   "execution_count": 6,
   "id": "484ed911",
   "metadata": {
    "execution": {
     "iopub.execute_input": "2021-12-01T09:28:22.054796Z",
     "iopub.status.busy": "2021-12-01T09:28:22.053678Z",
     "iopub.status.idle": "2021-12-01T09:28:22.064168Z",
     "shell.execute_reply": "2021-12-01T09:28:22.064879Z",
     "shell.execute_reply.started": "2021-12-01T09:22:49.904619Z"
    },
    "papermill": {
     "duration": 0.029774,
     "end_time": "2021-12-01T09:28:22.065240",
     "exception": false,
     "start_time": "2021-12-01T09:28:22.035466",
     "status": "completed"
    },
    "tags": []
   },
   "outputs": [],
   "source": [
    "def rem_clean(row):\n",
    "    # remove [\\n,()] from text\n",
    "    try:\n",
    "        a = re.sub(\"\\n\",'', row)\n",
    "        a = re.sub(\",\",'', a)\n",
    "        a = re.sub(\"[()]\",'', a)\n",
    "        a = a.strip()\n",
    "        return a\n",
    "    except:\n",
    "        return None\n",
    "    \n",
    "def award_count(row):\n",
    "    # Split award with ',' and count the length\n",
    "    try:\n",
    "        count = len(row.split(','))\n",
    "        return count\n",
    "    except:\n",
    "        return 0\n",
    "\n",
    "def get_series_name(row):\n",
    "    try:\n",
    "        return (row.split('#')[0]).strip()\n",
    "    except:\n",
    "        return None\n",
    "\n",
    "def get_series_num(row):\n",
    "    try:\n",
    "        return (row.split('#')[1]).strip()\n",
    "    except:\n",
    "        return None\n",
    "\n",
    "def get_year(row):\n",
    "    try:\n",
    "        return re.findall('[0-9]{4}$', row)[0]\n",
    "    except:\n",
    "        return 'Unknown'\n",
    "\n",
    "def rating(row):\n",
    "    try:\n",
    "        return re.sub(',','',row)\n",
    "    except:\n",
    "        return 0"
   ]
  },
  {
   "cell_type": "code",
   "execution_count": 7,
   "id": "87f20c33",
   "metadata": {
    "execution": {
     "iopub.execute_input": "2021-12-01T09:28:22.102138Z",
     "iopub.status.busy": "2021-12-01T09:28:22.101109Z",
     "iopub.status.idle": "2021-12-01T09:28:22.318367Z",
     "shell.execute_reply": "2021-12-01T09:28:22.319007Z",
     "shell.execute_reply.started": "2021-12-01T09:22:49.918677Z"
    },
    "papermill": {
     "duration": 0.237693,
     "end_time": "2021-12-01T09:28:22.319193",
     "exception": false,
     "start_time": "2021-12-01T09:28:22.081500",
     "status": "completed"
    },
    "tags": []
   },
   "outputs": [],
   "source": [
    "df['publisher'] = df['publisher'].apply(rem_clean)\n",
    "df['series'] = df['series'].apply(rem_clean)\n",
    "df['clean_title'] = df['title'].apply(lambda x: (re.sub(r'\\([^()]*\\)', '', x)).strip())\n",
    "df['series_name'] = df['series'].apply(get_series_name)\n",
    "df['series_num'] = df['series'].apply(get_series_num)\n",
    "df['year_published'] = df['date_published'].apply(get_year)\n",
    "df['total_award'] = df['award'].apply(award_count)\n",
    "df['review_count'] = df['review_count'].apply(rating).astype('int64')\n",
    "df['rating_count'] = df['rating_count'].apply(rating).astype('int64')\n",
    "df['author'] = df['author'].fillna('Unknown')\n",
    "df['rate'] = df['rate'].fillna(0)"
   ]
  },
  {
   "cell_type": "code",
   "execution_count": 8,
   "id": "5993782a",
   "metadata": {
    "execution": {
     "iopub.execute_input": "2021-12-01T09:28:22.356248Z",
     "iopub.status.busy": "2021-12-01T09:28:22.355556Z",
     "iopub.status.idle": "2021-12-01T09:28:22.364957Z",
     "shell.execute_reply": "2021-12-01T09:28:22.364315Z",
     "shell.execute_reply.started": "2021-12-01T09:22:50.146560Z"
    },
    "papermill": {
     "duration": 0.030856,
     "end_time": "2021-12-01T09:28:22.365120",
     "exception": false,
     "start_time": "2021-12-01T09:28:22.334264",
     "status": "completed"
    },
    "tags": []
   },
   "outputs": [],
   "source": [
    "new_df = df[['clean_title','series_name','series_num','author','genre','date_published',\n",
    "             'year_published','publisher','num_of_page','lang','review_count','rating_count',\n",
    "             'rate','award','total_award']]"
   ]
  },
  {
   "cell_type": "code",
   "execution_count": 9,
   "id": "c3da5d75",
   "metadata": {
    "execution": {
     "iopub.execute_input": "2021-12-01T09:28:22.399756Z",
     "iopub.status.busy": "2021-12-01T09:28:22.399035Z",
     "iopub.status.idle": "2021-12-01T09:28:22.418089Z",
     "shell.execute_reply": "2021-12-01T09:28:22.418737Z",
     "shell.execute_reply.started": "2021-12-01T09:22:50.163191Z"
    },
    "papermill": {
     "duration": 0.038567,
     "end_time": "2021-12-01T09:28:22.418932",
     "exception": false,
     "start_time": "2021-12-01T09:28:22.380365",
     "status": "completed"
    },
    "tags": []
   },
   "outputs": [
    {
     "data": {
      "text/html": [
       "<div>\n",
       "<style scoped>\n",
       "    .dataframe tbody tr th:only-of-type {\n",
       "        vertical-align: middle;\n",
       "    }\n",
       "\n",
       "    .dataframe tbody tr th {\n",
       "        vertical-align: top;\n",
       "    }\n",
       "\n",
       "    .dataframe thead th {\n",
       "        text-align: right;\n",
       "    }\n",
       "</style>\n",
       "<table border=\"1\" class=\"dataframe\">\n",
       "  <thead>\n",
       "    <tr style=\"text-align: right;\">\n",
       "      <th></th>\n",
       "      <th>clean_title</th>\n",
       "      <th>series_name</th>\n",
       "      <th>series_num</th>\n",
       "      <th>author</th>\n",
       "      <th>genre</th>\n",
       "      <th>date_published</th>\n",
       "      <th>year_published</th>\n",
       "      <th>publisher</th>\n",
       "      <th>num_of_page</th>\n",
       "      <th>lang</th>\n",
       "      <th>review_count</th>\n",
       "      <th>rating_count</th>\n",
       "      <th>rate</th>\n",
       "      <th>award</th>\n",
       "      <th>total_award</th>\n",
       "    </tr>\n",
       "  </thead>\n",
       "  <tbody>\n",
       "    <tr>\n",
       "      <th>6611</th>\n",
       "      <td>Sita: An Illustrated Retelling of the Ramayana</td>\n",
       "      <td>The Great Indian Epics Retold</td>\n",
       "      <td>None</td>\n",
       "      <td>Devdutt Pattanaik</td>\n",
       "      <td>Fantasy,Mythology,Cultural,India,Fiction,Asian...</td>\n",
       "      <td>October 2013</td>\n",
       "      <td>2013</td>\n",
       "      <td>Penguin</td>\n",
       "      <td>328.0</td>\n",
       "      <td>English</td>\n",
       "      <td>520</td>\n",
       "      <td>6864</td>\n",
       "      <td>4.07</td>\n",
       "      <td>NaN</td>\n",
       "      <td>0</td>\n",
       "    </tr>\n",
       "    <tr>\n",
       "      <th>73</th>\n",
       "      <td>The Nix</td>\n",
       "      <td>None</td>\n",
       "      <td>None</td>\n",
       "      <td>Nathan  Hill</td>\n",
       "      <td>Fiction,Historical,Historical Fiction,Audioboo...</td>\n",
       "      <td>August 30th 2016</td>\n",
       "      <td>2016</td>\n",
       "      <td>Knopf</td>\n",
       "      <td>640.0</td>\n",
       "      <td>English</td>\n",
       "      <td>7975</td>\n",
       "      <td>67243</td>\n",
       "      <td>4.05</td>\n",
       "      <td>Los Angeles Times Book Prize for Art Seidenbau...</td>\n",
       "      <td>2</td>\n",
       "    </tr>\n",
       "    <tr>\n",
       "      <th>5259</th>\n",
       "      <td>Seventh Heaven</td>\n",
       "      <td>The Princess Diaries</td>\n",
       "      <td>7</td>\n",
       "      <td>Meg Cabot</td>\n",
       "      <td>Young Adult,Romance,Womens Fiction,Chick Lit,C...</td>\n",
       "      <td>2007</td>\n",
       "      <td>2007</td>\n",
       "      <td>Macmillan</td>\n",
       "      <td>284.0</td>\n",
       "      <td>English</td>\n",
       "      <td>708</td>\n",
       "      <td>25627</td>\n",
       "      <td>3.69</td>\n",
       "      <td>NaN</td>\n",
       "      <td>0</td>\n",
       "    </tr>\n",
       "    <tr>\n",
       "      <th>5973</th>\n",
       "      <td>March of the Hooligans</td>\n",
       "      <td>None</td>\n",
       "      <td>None</td>\n",
       "      <td>Dougie Brimson</td>\n",
       "      <td>Football</td>\n",
       "      <td>October 16th 2007</td>\n",
       "      <td>2007</td>\n",
       "      <td>Virgin Books</td>\n",
       "      <td>224.0</td>\n",
       "      <td>English</td>\n",
       "      <td>6</td>\n",
       "      <td>82</td>\n",
       "      <td>3.49</td>\n",
       "      <td>NaN</td>\n",
       "      <td>0</td>\n",
       "    </tr>\n",
       "    <tr>\n",
       "      <th>1827</th>\n",
       "      <td>First Light</td>\n",
       "      <td>Globiuz</td>\n",
       "      <td>1</td>\n",
       "      <td>R.L.  Douglas</td>\n",
       "      <td>NaN</td>\n",
       "      <td>October 31st 2018</td>\n",
       "      <td>2018</td>\n",
       "      <td>Createspace Independent Publishing Platform</td>\n",
       "      <td>314.0</td>\n",
       "      <td>English</td>\n",
       "      <td>1</td>\n",
       "      <td>4</td>\n",
       "      <td>4.00</td>\n",
       "      <td>NaN</td>\n",
       "      <td>0</td>\n",
       "    </tr>\n",
       "  </tbody>\n",
       "</table>\n",
       "</div>"
      ],
      "text/plain": [
       "                                         clean_title  \\\n",
       "6611  Sita: An Illustrated Retelling of the Ramayana   \n",
       "73                                           The Nix   \n",
       "5259                                  Seventh Heaven   \n",
       "5973                          March of the Hooligans   \n",
       "1827                                     First Light   \n",
       "\n",
       "                        series_name series_num             author  \\\n",
       "6611  The Great Indian Epics Retold       None  Devdutt Pattanaik   \n",
       "73                             None       None       Nathan  Hill   \n",
       "5259           The Princess Diaries          7          Meg Cabot   \n",
       "5973                           None       None     Dougie Brimson   \n",
       "1827                        Globiuz          1      R.L.  Douglas   \n",
       "\n",
       "                                                  genre     date_published  \\\n",
       "6611  Fantasy,Mythology,Cultural,India,Fiction,Asian...       October 2013   \n",
       "73    Fiction,Historical,Historical Fiction,Audioboo...   August 30th 2016   \n",
       "5259  Young Adult,Romance,Womens Fiction,Chick Lit,C...               2007   \n",
       "5973                                           Football  October 16th 2007   \n",
       "1827                                                NaN  October 31st 2018   \n",
       "\n",
       "     year_published                                    publisher  num_of_page  \\\n",
       "6611           2013                                      Penguin        328.0   \n",
       "73             2016                                        Knopf        640.0   \n",
       "5259           2007                                    Macmillan        284.0   \n",
       "5973           2007                                 Virgin Books        224.0   \n",
       "1827           2018  Createspace Independent Publishing Platform        314.0   \n",
       "\n",
       "         lang  review_count  rating_count  rate  \\\n",
       "6611  English           520          6864  4.07   \n",
       "73    English          7975         67243  4.05   \n",
       "5259  English           708         25627  3.69   \n",
       "5973  English             6            82  3.49   \n",
       "1827  English             1             4  4.00   \n",
       "\n",
       "                                                  award  total_award  \n",
       "6611                                                NaN            0  \n",
       "73    Los Angeles Times Book Prize for Art Seidenbau...            2  \n",
       "5259                                                NaN            0  \n",
       "5973                                                NaN            0  \n",
       "1827                                                NaN            0  "
      ]
     },
     "execution_count": 9,
     "metadata": {},
     "output_type": "execute_result"
    }
   ],
   "source": [
    "new_df.sample(5)"
   ]
  },
  {
   "cell_type": "code",
   "execution_count": 10,
   "id": "9ed7323c",
   "metadata": {
    "execution": {
     "iopub.execute_input": "2021-12-01T09:28:22.455987Z",
     "iopub.status.busy": "2021-12-01T09:28:22.455165Z",
     "iopub.status.idle": "2021-12-01T09:28:22.476887Z",
     "shell.execute_reply": "2021-12-01T09:28:22.477434Z",
     "shell.execute_reply.started": "2021-12-01T09:22:50.192249Z"
    },
    "papermill": {
     "duration": 0.042247,
     "end_time": "2021-12-01T09:28:22.477635",
     "exception": false,
     "start_time": "2021-12-01T09:28:22.435388",
     "status": "completed"
    },
    "tags": []
   },
   "outputs": [
    {
     "name": "stderr",
     "output_type": "stream",
     "text": [
      "/opt/conda/lib/python3.7/site-packages/pandas/util/_decorators.py:311: SettingWithCopyWarning: \n",
      "A value is trying to be set on a copy of a slice from a DataFrame\n",
      "\n",
      "See the caveats in the documentation: https://pandas.pydata.org/pandas-docs/stable/user_guide/indexing.html#returning-a-view-versus-a-copy\n",
      "  return func(*args, **kwargs)\n"
     ]
    }
   ],
   "source": [
    "# Drop duplicate book\n",
    "new_df.drop_duplicates(subset=['clean_title','series_name','series_num','author','publisher'],inplace=True)"
   ]
  },
  {
   "cell_type": "code",
   "execution_count": 11,
   "id": "bbc6c688",
   "metadata": {
    "execution": {
     "iopub.execute_input": "2021-12-01T09:28:22.515786Z",
     "iopub.status.busy": "2021-12-01T09:28:22.514714Z",
     "iopub.status.idle": "2021-12-01T09:28:22.679874Z",
     "shell.execute_reply": "2021-12-01T09:28:22.680403Z",
     "shell.execute_reply.started": "2021-12-01T09:22:50.221707Z"
    },
    "papermill": {
     "duration": 0.187225,
     "end_time": "2021-12-01T09:28:22.680635",
     "exception": false,
     "start_time": "2021-12-01T09:28:22.493410",
     "status": "completed"
    },
    "tags": []
   },
   "outputs": [],
   "source": [
    "new_df.to_csv('BestBookOf21Century.csv',index=False)"
   ]
  },
  {
   "cell_type": "markdown",
   "id": "694609ae",
   "metadata": {
    "papermill": {
     "duration": 0.015895,
     "end_time": "2021-12-01T09:28:22.715215",
     "exception": false,
     "start_time": "2021-12-01T09:28:22.699320",
     "status": "completed"
    },
    "tags": []
   },
   "source": [
    "# Visualization"
   ]
  },
  {
   "cell_type": "code",
   "execution_count": 12,
   "id": "a2eed263",
   "metadata": {
    "_kg_hide-input": true,
    "execution": {
     "iopub.execute_input": "2021-12-01T09:28:22.751999Z",
     "iopub.status.busy": "2021-12-01T09:28:22.751128Z",
     "iopub.status.idle": "2021-12-01T09:28:22.757331Z",
     "shell.execute_reply": "2021-12-01T09:28:22.757856Z",
     "shell.execute_reply.started": "2021-12-01T09:23:18.625650Z"
    },
    "papermill": {
     "duration": 0.026541,
     "end_time": "2021-12-01T09:28:22.758034",
     "exception": false,
     "start_time": "2021-12-01T09:28:22.731493",
     "status": "completed"
    },
    "tags": []
   },
   "outputs": [
    {
     "data": {
      "text/html": [
       "<div class='tableauPlaceholder' id='viz1638350585321' style='position: relative'><noscript><a href='#'><img alt='Best Book Of 21st Century Analysis ' src='https:&#47;&#47;public.tableau.com&#47;static&#47;images&#47;Be&#47;BestBookOf21stCenturyAnalysis&#47;Story1&#47;1_rss.png' style='border: none' /></a></noscript><object class='tableauViz'  style='display:none;'><param name='host_url' value='https%3A%2F%2Fpublic.tableau.com%2F' /> <param name='embed_code_version' value='3' /> <param name='site_root' value='' /><param name='name' value='BestBookOf21stCenturyAnalysis&#47;Story1' /><param name='tabs' value='no' /><param name='toolbar' value='yes' /><param name='static_image' value='https:&#47;&#47;public.tableau.com&#47;static&#47;images&#47;Be&#47;BestBookOf21stCenturyAnalysis&#47;Story1&#47;1.png' /> <param name='animate_transition' value='yes' /><param name='display_static_image' value='yes' /><param name='display_spinner' value='yes' /><param name='display_overlay' value='yes' /><param name='display_count' value='yes' /><param name='language' value='en-US' /><param name='filter' value='publish=yes' /></object></div>                <script type='text/javascript'>                    var divElement = document.getElementById('viz1638350585321');                    var vizElement = divElement.getElementsByTagName('object')[0];                    vizElement.style.width='100%';vizElement.style.height=(divElement.offsetWidth*0.75)+'px';                    var scriptElement = document.createElement('script');                    scriptElement.src = 'https://public.tableau.com/javascripts/api/viz_v1.js';                    vizElement.parentNode.insertBefore(scriptElement, vizElement);                </script>"
      ],
      "text/plain": [
       "<IPython.core.display.HTML object>"
      ]
     },
     "metadata": {},
     "output_type": "display_data"
    }
   ],
   "source": [
    "from IPython.core.display import display, HTML\n",
    "display(HTML(\"<div class='tableauPlaceholder' id='viz1638350585321' style='position: relative'><noscript><a href='#'><img alt='Best Book Of 21st Century Analysis ' src='https:&#47;&#47;public.tableau.com&#47;static&#47;images&#47;Be&#47;BestBookOf21stCenturyAnalysis&#47;Story1&#47;1_rss.png' style='border: none' /></a></noscript><object class='tableauViz'  style='display:none;'><param name='host_url' value='https%3A%2F%2Fpublic.tableau.com%2F' /> <param name='embed_code_version' value='3' /> <param name='site_root' value='' /><param name='name' value='BestBookOf21stCenturyAnalysis&#47;Story1' /><param name='tabs' value='no' /><param name='toolbar' value='yes' /><param name='static_image' value='https:&#47;&#47;public.tableau.com&#47;static&#47;images&#47;Be&#47;BestBookOf21stCenturyAnalysis&#47;Story1&#47;1.png' /> <param name='animate_transition' value='yes' /><param name='display_static_image' value='yes' /><param name='display_spinner' value='yes' /><param name='display_overlay' value='yes' /><param name='display_count' value='yes' /><param name='language' value='en-US' /><param name='filter' value='publish=yes' /></object></div>                <script type='text/javascript'>                    var divElement = document.getElementById('viz1638350585321');                    var vizElement = divElement.getElementsByTagName('object')[0];                    vizElement.style.width='100%';vizElement.style.height=(divElement.offsetWidth*0.75)+'px';                    var scriptElement = document.createElement('script');                    scriptElement.src = 'https://public.tableau.com/javascripts/api/viz_v1.js';                    vizElement.parentNode.insertBefore(scriptElement, vizElement);                </script>\"))"
   ]
  },
  {
   "cell_type": "code",
   "execution_count": 13,
   "id": "941bd89c",
   "metadata": {
    "_kg_hide-input": true,
    "execution": {
     "iopub.execute_input": "2021-12-01T09:28:22.794628Z",
     "iopub.status.busy": "2021-12-01T09:28:22.793906Z",
     "iopub.status.idle": "2021-12-01T09:28:22.799794Z",
     "shell.execute_reply": "2021-12-01T09:28:22.800404Z",
     "shell.execute_reply.started": "2021-12-01T09:26:14.984099Z"
    },
    "papermill": {
     "duration": 0.026235,
     "end_time": "2021-12-01T09:28:22.800615",
     "exception": false,
     "start_time": "2021-12-01T09:28:22.774380",
     "status": "completed"
    },
    "tags": []
   },
   "outputs": [
    {
     "name": "stdout",
     "output_type": "stream",
     "text": [
      "You can see the visualization here\n"
     ]
    },
    {
     "data": {
      "text/html": [
       "<a href='https://public.tableau.com/views/BestBookOf21stCenturyAnalysis/Story1?:language=en-US&publish=yes&:display_count=n&:origin=viz_share_link'>Click Here</a>"
      ],
      "text/plain": [
       "<IPython.core.display.HTML object>"
      ]
     },
     "metadata": {},
     "output_type": "display_data"
    }
   ],
   "source": [
    "print('You can see the visualization here')\n",
    "display(HTML(\"<a href='https://public.tableau.com/views/BestBookOf21stCenturyAnalysis/Story1?:language=en-US&publish=yes&:display_count=n&:origin=viz_share_link'>Click Here</a>\"))\n"
   ]
  },
  {
   "cell_type": "code",
   "execution_count": null,
   "id": "dd34fc48",
   "metadata": {
    "papermill": {
     "duration": 0.016793,
     "end_time": "2021-12-01T09:28:22.834560",
     "exception": false,
     "start_time": "2021-12-01T09:28:22.817767",
     "status": "completed"
    },
    "tags": []
   },
   "outputs": [],
   "source": []
  }
 ],
 "metadata": {
  "kernelspec": {
   "display_name": "Python 3",
   "language": "python",
   "name": "python3"
  },
  "language_info": {
   "codemirror_mode": {
    "name": "ipython",
    "version": 3
   },
   "file_extension": ".py",
   "mimetype": "text/x-python",
   "name": "python",
   "nbconvert_exporter": "python",
   "pygments_lexer": "ipython3",
   "version": "3.7.10"
  },
  "papermill": {
   "default_parameters": {},
   "duration": 12.754468,
   "end_time": "2021-12-01T09:28:23.462030",
   "environment_variables": {},
   "exception": null,
   "input_path": "__notebook__.ipynb",
   "output_path": "__notebook__.ipynb",
   "parameters": {},
   "start_time": "2021-12-01T09:28:10.707562",
   "version": "2.3.3"
  }
 },
 "nbformat": 4,
 "nbformat_minor": 5
}
